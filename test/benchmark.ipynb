{
 "cells": [
  {
   "cell_type": "markdown",
   "metadata": {},
   "source": [
    "# Benchmarking foldseek ctranslate2 branch\n",
    "Apply the [foldseek papaer](https://doi.org/10.1038/s41587-023-01773-0) benchmark using the `ctranslate2` branch.\n",
    "The paper uses the [SCOPe](https://wwwuser.gwdg.de/~compbiol/foldseek/scop40pdb.tar.gz) 40% sequence redundance database.\n",
    "However, we don't download the data here, but reuse existing `.pdb` data on the luster at `/home/sukhwan/foldseek-analysis/scope_pdb`."
   ]
  },
  {
   "cell_type": "code",
   "execution_count": null,
   "metadata": {
    "vscode": {
     "languageId": "shellscript"
    }
   },
   "outputs": [],
   "source": [
    "mkdir -p test/data/scope\n",
    "ln -s /home/sukhwan/foldseek-analysis/scope_pdb test/data/scope/pdb"
   ]
  },
  {
   "cell_type": "code",
   "execution_count": null,
   "metadata": {
    "vscode": {
     "languageId": "shellscript"
    }
   },
   "outputs": [],
   "source": [
    "# create foldseek db\n",
    "srun -c 32 -t 20-0 --pty /bin/bash\n",
    "DB_PATH=test/dbs/scope/\n",
    "SCOPE_DATA=test/data/scope/pdb\n",
    "mkdir -p $DB_PATH\n",
    "# conda activate prostt5\n",
    "# foldseek createdb --mask-bfactor-threshold -10000 $SCOPE_DATA $DB_PATH/scope_full\n",
    "foldseek createdb $SCOPE_DATA $DB_PATH/scope_full\n",
    "\n",
    "foldseek convert2fasta $DB_PATH/scope_full $(dirname $SCOPE_DATA)/scope_full.aa.fasta"
   ]
  },
  {
   "cell_type": "code",
   "execution_count": null,
   "metadata": {
    "vscode": {
     "languageId": "shellscript"
    }
   },
   "outputs": [],
   "source": [
    "# create foldseek db from amino acid fasta using ProstT5\n",
    "srun -p gpu --gres=gpu:1 -c 4 -t 20-0 --pty /bin/bash\n",
    "MODEL_PATH=/home/sukhwan/foldseek_ctranslate/foldseek/weights/model \n",
    "cuda-build/src/foldseek createdb test/data/scope/scope_full.aa.fasta test/dbs/scope/scope_prostt5_gpu --prostt5-model $MODEL_PATH --gpu 1\n",
    "# cpu-build/src/foldseek createdb test/data/scope/scope_full.aa.fasta test/dbs/scope/scope_prostt5 --prostt5-model $MODEL_PATH\n",
    "exit"
   ]
  },
  {
   "cell_type": "code",
   "execution_count": null,
   "metadata": {
    "vscode": {
     "languageId": "shellscript"
    }
   },
   "outputs": [],
   "source": [
    "# conda activate prostt5\n",
    "srun -c 64 -t 20-0 --pty /bin/bash\n",
    "DB_PATH=test/dbs/scope/\n",
    "mkdir -p $DB_PATH/tmp\n",
    "\n",
    "foldseek search $DB_PATH/scope_prostt5_gpu $DB_PATH/scope_full $DB_PATH/aln_scope_benchmark $DB_PATH/tmp/ -s 9.5 --max-seqs 2000 -e 10\n",
    "\n",
    "foldseek convertalis $DB_PATH/scope_prostt5_gpu $DB_PATH/scope_full $DB_PATH/aln_scope_benchmark $DB_PATH/aln_scope_benchmark.m8\n",
    "\n",
    "# alternatively clone git@github.com:steineggerlab/foldseek-analysis.git\n",
    "AWK_SCRIPT=../../../consensus3Di/lib/foldseek-analysis/scopbenchmark/scripts/bench.noselfhit.awk\n",
    "LOOKUP_FILE=../../../consensus3Di/lib/foldseek-analysis/scopbenchmark/data/scop_lookup.fix.tsv\n",
    "$AWK_SCRIPT $LOOKUP_FILE <(cat $DB_PATH/aln_scope_benchmark.m8 | sed -E 's|.pdb||g') > test/data/benchmark.ctranslate2.splitting.rocx\n",
    "\n",
    "awk '{ famsum+=$3; supfamsum+=$4; foldsum+=$5}END{print famsum/NR,supfamsum/NR,foldsum/NR}' test/data/benchmark.ctranslate2.splitting.rocx\n",
    "# 0.841243 0.444564 0.0849547"
   ]
  }
 ],
 "metadata": {
  "language_info": {
   "name": "python"
  }
 },
 "nbformat": 4,
 "nbformat_minor": 2
}
